{
 "cells": [
  {
   "cell_type": "markdown",
   "metadata": {},
   "source": [
    "#### Python algorithm testing: for easy POC + debugging ###"
   ]
  },
  {
   "cell_type": "code",
   "execution_count": 10,
   "metadata": {
    "collapsed": true
   },
   "outputs": [],
   "source": [
    "from queue import Queue"
   ]
  },
  {
   "cell_type": "code",
   "execution_count": 11,
   "metadata": {
    "collapsed": true
   },
   "outputs": [],
   "source": [
    "# 16x16 grid representing walls, 2D \"bytearray\"\n",
    "# Each cell is a binary integer: north, east, south, west represented in a bit\n",
    "# 0 represents a wall\n",
    "# The leftmost bit will be whether or not the cell has been checked\n",
    "\n",
    "CHECKED = 0b10000\n",
    "NORTH   = 0x1\n",
    "EAST    = 0x2\n",
    "SOUTH   = 0x4\n",
    "WEST    = 0x8\n",
    "# The size of each cell in the output\n",
    "PRINT_SIZE = 13"
   ]
  },
  {
   "cell_type": "code",
   "execution_count": 12,
   "metadata": {},
   "outputs": [
    {
     "name": "stdout",
     "output_type": "stream",
     "text": [
      "256\n",
      "[14, 8, 8, 10, 10, 10, 11, 13, 13, 13, 12, 10, 10, 10, 8, 9, 12, 1, 6, 8, 9, 13, 12, 0, 0, 0, 0, 8, 10, 10, 3, 5, 5, 4, 9, 7, 7, 4, 3, 7, 7, 5, 7, 7, 12, 10, 9, 5, 5, 7, 6, 9, 12, 2, 10, 10, 9, 5, 12, 10, 1, 12, 1, 5, 4, 10, 10, 2, 2, 8, 10, 10, 3, 6, 3, 13, 7, 5, 5, 5, 4, 10, 11, 12, 10, 3, 12, 10, 8, 9, 14, 2, 10, 3, 7, 5, 4, 10, 8, 2, 11, 12, 0, 10, 3, 4, 9, 12, 10, 8, 10, 1, 4, 9, 6, 10, 11, 5, 6, 8, 9, 5, 5, 4, 8, 2, 8, 1, 5, 6, 10, 10, 9, 6, 9, 6, 3, 5, 5, 5, 6, 8, 3, 5, 4, 10, 11, 12, 3, 14, 2, 9, 14, 2, 1, 6, 9, 6, 9, 5, 5, 12, 9, 6, 10, 9, 14, 2, 9, 12, 2, 9, 6, 8, 3, 5, 4, 3, 6, 8, 10, 2, 9, 14, 2, 0, 10, 2, 8, 1, 14, 1, 4, 9, 12, 2, 9, 14, 2, 9, 14, 2, 8, 10, 1, 5, 14, 1, 5, 4, 3, 14, 1, 13, 12, 3, 13, 13, 6, 9, 6, 0, 10, 1, 4, 1, 13, 13, 5, 5, 6, 9, 4, 2, 9, 6, 10, 2, 10, 1, 7, 6, 2, 2, 2, 2, 10, 2, 3, 15, 6, 10, 10, 10, 10, 3]\n"
     ]
    }
   ],
   "source": [
    "# # 16x16, mazes thanks to https://github.com/micromouseonline/micromouse-maze\n",
    "# physical_maze = [\n",
    "#   0x0e, 0x08, 0x0a, 0x08, 0x08, 0x0a, 0x08, 0x0a, 0x09, 0x0c, 0x09, 0x0c, 0x08, 0x0b, 0x0c, 0x09,\n",
    "#   0x0c, 0x02, 0x08, 0x01, 0x05, 0x0c, 0x02, 0x0a, 0x02, 0x03, 0x06, 0x03, 0x06, 0x0a, 0x03, 0x05,\n",
    "#   0x05, 0x0e, 0x03, 0x06, 0x00, 0x02, 0x0a, 0x0a, 0x08, 0x08, 0x0b, 0x0c, 0x0a, 0x08, 0x09, 0x05,\n",
    "#   0x04, 0x09, 0x0c, 0x09, 0x07, 0x0c, 0x09, 0x0d, 0x05, 0x05, 0x0e, 0x01, 0x0d, 0x07, 0x05, 0x05,\n",
    "#   0x05, 0x04, 0x01, 0x05, 0x0c, 0x03, 0x04, 0x01, 0x06, 0x02, 0x0b, 0x04, 0x02, 0x0a, 0x01, 0x05,\n",
    "#   0x04, 0x01, 0x04, 0x01, 0x04, 0x09, 0x07, 0x06, 0x09, 0x0e, 0x0a, 0x01, 0x0e, 0x0b, 0x05, 0x05,\n",
    "#   0x05, 0x04, 0x01, 0x07, 0x05, 0x06, 0x08, 0x0b, 0x06, 0x09, 0x0d, 0x04, 0x0a, 0x0a, 0x01, 0x05,\n",
    "#   0x04, 0x03, 0x05, 0x0e, 0x03, 0x0c, 0x02, 0x08, 0x09, 0x04, 0x03, 0x04, 0x08, 0x0a, 0x01, 0x05,\n",
    "#   0x06, 0x08, 0x02, 0x0b, 0x0c, 0x02, 0x09, 0x06, 0x03, 0x06, 0x09, 0x05, 0x07, 0x0d, 0x05, 0x05,\n",
    "#   0x0e, 0x00, 0x0b, 0x0d, 0x05, 0x0d, 0x07, 0x0c, 0x0a, 0x08, 0x02, 0x02, 0x08, 0x02, 0x01, 0x05,\n",
    "#   0x0e, 0x03, 0x0c, 0x01, 0x05, 0x06, 0x09, 0x05, 0x0c, 0x00, 0x09, 0x0d, 0x06, 0x09, 0x05, 0x05,\n",
    "#   0x0c, 0x08, 0x01, 0x05, 0x04, 0x0b, 0x05, 0x04, 0x03, 0x05, 0x06, 0x01, 0x0d, 0x06, 0x01, 0x05,\n",
    "#   0x07, 0x05, 0x06, 0x00, 0x00, 0x0b, 0x05, 0x06, 0x0a, 0x03, 0x0d, 0x06, 0x00, 0x0b, 0x05, 0x05,\n",
    "#   0x0e, 0x00, 0x0b, 0x05, 0x07, 0x0c, 0x03, 0x0c, 0x0a, 0x08, 0x02, 0x08, 0x02, 0x08, 0x01, 0x05,\n",
    "#   0x0e, 0x01, 0x0e, 0x03, 0x0c, 0x02, 0x08, 0x02, 0x08, 0x02, 0x09, 0x06, 0x09, 0x05, 0x07, 0x05,\n",
    "#   0x0e, 0x02, 0x0a, 0x0a, 0x02, 0x0a, 0x02, 0x0a, 0x02, 0x0a, 0x02, 0x0a, 0x02, 0x02, 0x0a, 0x03\n",
    "# ]\n",
    "\n",
    "physical_maze = [0 for i in range(256)]\n",
    "# raw_maze = ''\n",
    "# Assumes valid maze file....\n",
    "with open('japan-2011-finals.maz','rb') as f:\n",
    "    ind = 0\n",
    "    for line in f:\n",
    "        for char in line:\n",
    "            physical_maze[ind] = char\n",
    "            ind += 1\n",
    "print(len(physical_maze))\n",
    "print(physical_maze)"
   ]
  },
  {
   "cell_type": "code",
   "execution_count": 13,
   "metadata": {
    "collapsed": true
   },
   "outputs": [],
   "source": [
    "def printMaze(maze,robot,n_weights=None,w_weights=None):\n",
    "    # maze out is a list of strings, each representing a row\n",
    "    maze_out = [list((' '*PRINT_SIZE).join('+'*17))]\n",
    "    maze_out += [list(' '*((PRINT_SIZE+1)*16+1))]\n",
    "    maze_out += [list(' '*((PRINT_SIZE+1)*16+1))]\n",
    "    for line in range(15):\n",
    "        maze_out += [list('+'+(' '*(PRINT_SIZE-1)) + (('+'+' '*(PRINT_SIZE-1)).join(list(' '*16))) + '+')]\n",
    "        maze_out += [list(' '*((PRINT_SIZE+1)*16+1))]\n",
    "        maze_out += [list(' '*((PRINT_SIZE+1)*16+1))]\n",
    "    maze_out += [list((' '*PRINT_SIZE).join('+'*17))]\n",
    "    # if the maze is a 2d array, unpack it \n",
    "    if type(maze[0]) == list:\n",
    "        maze = list(list(reversed(i) for i in zip(*maze[::-1])))\n",
    "        m2 = []\n",
    "        for i in maze:\n",
    "            for j in i:\n",
    "                m2.append(j)\n",
    "        maze = m2\n",
    "    for ind,i in enumerate(maze):\n",
    "        # In the data, the mouse \n",
    "        # row is ind%16, col is ind/16 (rotated)\n",
    "        # from 0,0, bottommost row, leftmost column\n",
    "        # to 1,0, second to bottom row, leftmost column\n",
    "        if i & NORTH:\n",
    "            for s in range(1,PRINT_SIZE+1):\n",
    "                maze_out[48-((ind%16)+1)*3][int(ind/16)*(PRINT_SIZE+1)+s] = '-'\n",
    "        if i & EAST:\n",
    "            maze_out[48-((ind%16)+1)*3 + 1][int(ind/16)*(PRINT_SIZE+1)+(PRINT_SIZE+1)] = '|'\n",
    "            maze_out[48-((ind%16)+1)*3 + 2][int(ind/16)*(PRINT_SIZE+1)+(PRINT_SIZE+1)] = '|'\n",
    "        if i & SOUTH:\n",
    "            for s in range(1,PRINT_SIZE+1):\n",
    "                maze_out[48-((ind%16))*3][int(ind/16)*(PRINT_SIZE+1)+s] = '-'\n",
    "        if i & WEST:\n",
    "            maze_out[48-((ind%16)+1)*3 + 1][int(ind/16)*(PRINT_SIZE+1)] = '|'\n",
    "            maze_out[48-((ind%16)+1)*3 + 2][int(ind/16)*(PRINT_SIZE+1)] = '|'\n",
    "    \n",
    "    #mouse location\n",
    "    if robot.dir & NORTH:\n",
    "        maze_out[48-(robot.row*3+2)][robot.col*(PRINT_SIZE+1)+2] = '^'\n",
    "    if robot.dir & EAST:\n",
    "        maze_out[48-(robot.row*3+2)][robot.col*(PRINT_SIZE+1)+3] = '>'\n",
    "    if robot.dir & SOUTH:\n",
    "        maze_out[48-(robot.row*3+2)][robot.col*(PRINT_SIZE+1)+2] = 'v'\n",
    "    if robot.dir & WEST:\n",
    "        maze_out[48-(robot.row*3+2)][robot.col*(PRINT_SIZE+1)+1] = '<'\n",
    "    \n",
    "    \n",
    "    #Prints where the weights are\n",
    "    if n_weights:\n",
    "        for n,i in enumerate(n_weights):\n",
    "            for m,j in enumerate(i):\n",
    "                if j != 99999:\n",
    "                    # Ad-hoc but efficient way of guaranteeing 3 characters to print....\n",
    "                    v = 'N'+str(j+.0000001)[:int(PRINT_SIZE/2-1)]\n",
    "                    for ind in range(len(v)):\n",
    "                        maze_out[48-(n*3+2)][m*(PRINT_SIZE+1)+ind+1+int(PRINT_SIZE/2)] = v[ind]\n",
    "    if w_weights:\n",
    "        for n,i in enumerate(w_weights):\n",
    "            for m,j in enumerate(i):\n",
    "                if j != 99999:\n",
    "                    v = 'W'+str(j+.0000001)[:int(PRINT_SIZE/2-1)]\n",
    "                    for ind in range(len(v)):\n",
    "                        maze_out[48-(n*3+1)][m*(PRINT_SIZE+1)+ind+1] = v[ind]\n",
    "\n",
    "\n",
    "    #print('\\n'.join([''.join(i) for i in maze_out]))\n",
    "    with open('mazeiters','a+') as f:\n",
    "        f.write('\\n'.join([''.join(i) for i in maze_out])+'\\n'+'#'*100+'\\n')\n"
   ]
  },
  {
   "cell_type": "code",
   "execution_count": 14,
   "metadata": {
    "collapsed": true
   },
   "outputs": [],
   "source": [
    "def search(row,col):\n",
    "    return physical_maze[col*16+row]"
   ]
  },
  {
   "cell_type": "code",
   "execution_count": 15,
   "metadata": {
    "collapsed": true
   },
   "outputs": [],
   "source": [
    "# Cell weight tracker\n",
    "class Cell:\n",
    "    def __init__(self,north=None, south=None, east=None, west=None):\n",
    "        self.north = north\n",
    "        self.west = west\n",
    "    \n",
    "    def __repr__(self):\n",
    "        return 'Cell:' + 'N: ' + str(self.north) + 'W: ' + str(self.west) + '   '"
   ]
  },
  {
   "cell_type": "code",
   "execution_count": 16,
   "metadata": {
    "collapsed": true
   },
   "outputs": [],
   "source": [
    "class StopRecursion(BaseException):\n",
    "    pass"
   ]
  },
  {
   "cell_type": "code",
   "execution_count": 17,
   "metadata": {
    "collapsed": true
   },
   "outputs": [],
   "source": [
    "neighbor_pattern = [(0,1),(0,-1),(1,0),(-1,0)]"
   ]
  },
  {
   "cell_type": "code",
   "execution_count": 94,
   "metadata": {},
   "outputs": [],
   "source": [
    "class Mouse:\n",
    "    # This will be code to translate to arduino code\n",
    "    def __init__(self,row=0,col=0,edge=SOUTH):\n",
    "        self.row = row\n",
    "        self.col = col\n",
    "        #after searching has started, this will only be NORTH or EAST\n",
    "        self.edge = edge\n",
    "        self.dir = NORTH\n",
    "        #Each cell in the memory is initialized to 0, or no walls.\n",
    "        self.memory = [[0]*16 for i in range(16)]\n",
    "        #Each node in the weights represents an edge\n",
    "        self.n_weights = [[99999]*16 for i in range(16)]\n",
    "        self.w_weights = [[99999]*16 for i in range(16)]\n",
    "        self.old_n = [[None]*16 for i in range(16)]\n",
    "        self.old_w = [[None]*16 for i in range(16)]\n",
    "        self.goal_found = False\n",
    "        self.path = []\n",
    "        self.relative_path = []\n",
    "            \n",
    "    def neighbors(self,row,col):\n",
    "        x = [(row+1,col), (row-1,col),(row,col+1),(row,col-1)]\n",
    "        return [i for i in x if i[0]<16 and i[1]<16 and i[0]>0 and i[1]>0]\n",
    "    \n",
    "    def set_weight(self, r,c, direction, value):\n",
    "        if r < 0 or r > 15 or c < 0 or c > 15:\n",
    "            return\n",
    "        if direction == NORTH and (self.n_weights[r][c] == None or self.n_weights[r][c] > value):\n",
    "            self.n_weights[r][c] = value\n",
    "        if direction == WEST and (self.w_weights[r][c] == None or self.w_weights[r][c] > value):\n",
    "            self.w_weights[r][c] = value\n",
    "            \n",
    "    def at_goal(self):\n",
    "        return self.row in (7,8) and self.col in (7,8)\n",
    "    \n",
    "    #floodfill algorithm on the mouse memory\n",
    "    #based on bfs\n",
    "    def floodfill(self): \n",
    "        # TODO: delete this line, it's unnecessary\n",
    "        visited = []\n",
    "        \n",
    "        q = Queue()\n",
    "        # row, col, edge, dist\n",
    "        q.put((7,7,NORTH,0))\n",
    "        while not q.empty():\n",
    "            cur = q.get()\n",
    "            if cur[0] < 0 or cur[0] > 15 or cur[1] < 0 or cur[1] > 15 \\\n",
    "                or ((cur[0],cur[1],cur[2]) in visited) \\\n",
    "                or self.memory[cur[0]][cur[1]] == 0 \\\n",
    "                or (self.memory[cur[0]][cur[1]] & cur[2]):\n",
    "                continue\n",
    "            printMaze(self.memory,Mouse(cur[0],cur[1],cur[2]),self.n_weights,self.w_weights)\n",
    "            visited.append((cur[0],cur[1],cur[2]))\n",
    "            if cur[2] in (NORTH,WEST):\n",
    "                self.set_weight(cur[0],cur[1],cur[2],cur[3])\n",
    "\n",
    "            if cur[2] == WEST:\n",
    "                if self.memory[cur[0]][cur[1]] & WEST == 0:\n",
    "                    q.put((cur[0],cur[1]-1,NORTH,cur[3]+.7))\n",
    "                    q.put((cur[0],cur[1]-1,WEST,cur[3]+1))\n",
    "                    q.put((cur[0]-1,cur[1]-1,NORTH,cur[3]+.7))\n",
    "                q.put((cur[0],cur[1],NORTH,cur[3]+.7))\n",
    "                q.put((cur[0],cur[1]+1,WEST,cur[3]+1))\n",
    "                q.put((cur[0]-1,cur[1],NORTH,cur[3]+.7))\n",
    "            if cur[2] == NORTH:\n",
    "                if self.memory[cur[0]][cur[1]] & NORTH == 0:\n",
    "                    q.put((cur[0]+1,cur[1],NORTH,cur[3]+1))\n",
    "                    q.put((cur[0]+1,cur[1],WEST,cur[3]+.7))\n",
    "                    q.put((cur[0]+1,cur[1]+1,WEST,cur[3]+.7))\n",
    "                q.put((cur[0]-1,cur[1],NORTH,cur[3]+1))\n",
    "                q.put((cur[0],cur[1],WEST,cur[3]+.7))\n",
    "                q.put((cur[0],cur[1]+1,WEST,cur[3]+.7))\n",
    "                \n",
    "    \n",
    "    \n",
    "#-----------------------------------------------------------------------------------------------\n",
    "    # Important to note that there's no logic for telling how many \"units\" we've moved in this\n",
    "    # End goal: diagonal maze solving like http://ieeexplore.ieee.org/document/6852576/ \n",
    "    # So each edge has a distance, and we'll assume we start on the bottom edge...        \n",
    "    \n",
    "    def map_helper(self):\n",
    "        try:\n",
    "            self.map(self.edge)\n",
    "        except StopRecursion:\n",
    "            pass\n",
    "    #edge here is the edge we start at\n",
    "    def map(self,edge):\n",
    "        history = []\n",
    "        next_node = []\n",
    "        # next node has its locations and the previous location\n",
    "        next_node.append(((0,0),(0,0)))\n",
    "        prevlen = 0\n",
    "        while len(next_node) != 0:\n",
    "            \n",
    "            cur = next_node.pop()\n",
    "            while (self.row,self.col) != cur[1]:\n",
    "                i = history.pop()\n",
    "                self.row = i[0]\n",
    "                self.col = i[1]\n",
    "            self.row,self.col = cur[0]\n",
    "            if self.at_goal():\n",
    "                break\n",
    "            self.memory[self.row][self.col] = search(*cur[0]) + CHECKED\n",
    "            printMaze(self.memory,self,self.n_weights,self.w_weights)\n",
    "            prevlen = len(next_node)\n",
    "            \n",
    "            if self.row > 7 and self.col < 7:\n",
    "                dirs = [WEST,NORTH,EAST,SOUTH]\n",
    "            elif self.row < 7 and self.col < 7:\n",
    "                dirs = [WEST,SOUTH,EAST,NORTH]\n",
    "            elif self.row < 7 and self.col > 7:\n",
    "                dirs = [EAST,SOUTH,WEST,NORTH]\n",
    "            else:\n",
    "                dirs = [EAST,NORTH,WEST,SOUTH]\n",
    "            for d in dirs:\n",
    "                if self.memory[self.row][self.col] & d==0:\n",
    "                    if d == WEST and self.memory[self.row][self.col-1] & CHECKED == 0:\n",
    "                            next_node.append(((self.row,self.col-1),(self.row,self.col)))\n",
    "                    elif d == EAST and self.memory[self.row][self.col+1] & CHECKED == 0:\n",
    "                            next_node.append(((self.row,self.col+1),(self.row,self.col)))\n",
    "                    elif d == SOUTH and self.memory[self.row-1][self.col] & CHECKED == 0:\n",
    "                            next_node.append(((self.row-1,self.col),(self.row,self.col)))\n",
    "                    elif d == NORTH and self.memory[self.row+1][self.col] & CHECKED == 0:\n",
    "                            next_node.append(((self.row+1,self.col),(self.row,self.col)))\n",
    "\n",
    "            if prevlen != len(next_node):\n",
    "                history.append(cur[0])\n",
    "        old_memory = list([list(i) for i in self.memory])\n",
    "        self.memory = [[0]*16 for i in range(16)]\n",
    "        \n",
    "        history = []\n",
    "        next_node = []\n",
    "        # next node has its locations and the previous location\n",
    "        next_node.append(((7,7),(7,7)))\n",
    "        prevlen = 0\n",
    "        while len(next_node) != 0:\n",
    "            cur = next_node.pop() \n",
    "            while (self.row,self.col) != cur[1]:\n",
    "                i = history.pop()\n",
    "                self.row = i[0]\n",
    "                self.col = i[1]\n",
    "            self.row,self.col = cur[0]\n",
    "            if self.row == 0 and self.col == 0:\n",
    "                break\n",
    "            self.memory[self.row][self.col] = search(*cur[0]) + CHECKED\n",
    "            printMaze(self.memory,self,self.n_weights,self.w_weights)\n",
    "            prevlen = len(next_node)\n",
    "            for d in [NORTH,EAST,SOUTH,WEST]:\n",
    "                if self.memory[self.row][self.col] & d==0:\n",
    "                    if d == WEST and self.memory[self.row][self.col-1] & CHECKED == 0:\n",
    "                            next_node.append(((self.row,self.col-1),(self.row,self.col)))\n",
    "                    elif d == EAST and self.memory[self.row][self.col+1] & CHECKED == 0:\n",
    "                            next_node.append(((self.row,self.col+1),(self.row,self.col)))\n",
    "                    elif d == SOUTH and self.memory[self.row-1][self.col] & CHECKED == 0:\n",
    "                            next_node.append(((self.row-1,self.col),(self.row,self.col)))\n",
    "                    elif d == NORTH and self.memory[self.row+1][self.col] & CHECKED == 0:\n",
    "                            next_node.append(((self.row+1,self.col),(self.row,self.col)))\n",
    "\n",
    "            if prevlen != len(next_node):\n",
    "                history.append(cur[0])\n",
    "\n",
    "        for i in range(16):\n",
    "            for j in range(16):\n",
    "                self.memory[i][j] = max(self.memory[i][j],old_memory[i][j])     \n",
    "            "
   ]
  },
  {
   "cell_type": "code",
   "execution_count": 95,
   "metadata": {},
   "outputs": [],
   "source": [
    "open('mazeiters','w+').close()\n",
    "m = Mouse(edge=NORTH)\n",
    "m.map_helper()\n",
    "printMaze(m.memory,m,m.n_weights,m.w_weights)  \n",
    "\n"
   ]
  },
  {
   "cell_type": "code",
   "execution_count": 20,
   "metadata": {},
   "outputs": [],
   "source": [
    "#we might need a special case for where the mouse starts\n",
    "m.floodfill()\n",
    "printMaze(m.memory,m,m.n_weights,m.w_weights)  \n"
   ]
  },
  {
   "cell_type": "code",
   "execution_count": null,
   "metadata": {
    "collapsed": true
   },
   "outputs": [],
   "source": []
  },
  {
   "cell_type": "code",
   "execution_count": null,
   "metadata": {
    "collapsed": true
   },
   "outputs": [],
   "source": []
  },
  {
   "cell_type": "code",
   "execution_count": null,
   "metadata": {
    "collapsed": true
   },
   "outputs": [],
   "source": []
  }
 ],
 "metadata": {
  "kernelspec": {
   "display_name": "Python 3",
   "language": "python",
   "name": "python3"
  },
  "language_info": {
   "codemirror_mode": {
    "name": "ipython",
    "version": 3
   },
   "file_extension": ".py",
   "mimetype": "text/x-python",
   "name": "python",
   "nbconvert_exporter": "python",
   "pygments_lexer": "ipython3",
   "version": "3.6.3"
  }
 },
 "nbformat": 4,
 "nbformat_minor": 2
}
