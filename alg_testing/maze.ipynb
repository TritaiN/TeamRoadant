{
 "cells": [
  {
   "cell_type": "markdown",
   "metadata": {},
   "source": [
    "#### Python algorithm testing: for easy POC + debugging ###"
   ]
  },
  {
   "cell_type": "code",
   "execution_count": 48,
   "metadata": {
    "collapsed": true
   },
   "outputs": [],
   "source": [
    "# 16x16 grid representing walls, 2D \"bytearray\"\n",
    "# Each cell is a binary integer: north, east, south, west represented in a bit\n",
    "# 0 represents a wall\n",
    "# The leftmost bit will be whether or not the cell has been checked\n",
    "\n",
    "CHECKED = 0b10000\n",
    "NORTH   = 0x1\n",
    "EAST    = 0x2\n",
    "SOUTH   = 0x4\n",
    "WEST    = 0x8\n",
    "\n",
    "# The size of each cell in the output\n",
    "PRINT_SIZE = 9"
   ]
  },
  {
   "cell_type": "code",
   "execution_count": 2,
   "metadata": {
    "collapsed": true
   },
   "outputs": [],
   "source": [
    "# 16x16, mazes thanks to https://github.com/micromouseonline/micromouse-maze\n",
    "physical_maze = [\n",
    "  0x0e, 0x08, 0x0a, 0x08, 0x08, 0x0a, 0x08, 0x0a, 0x09, 0x0c, 0x09, 0x0c, 0x08, 0x0b, 0x0c, 0x09,\n",
    "  0x0c, 0x02, 0x08, 0x01, 0x05, 0x0c, 0x02, 0x0a, 0x02, 0x03, 0x06, 0x03, 0x06, 0x0a, 0x03, 0x05,\n",
    "  0x05, 0x0e, 0x03, 0x06, 0x00, 0x02, 0x0a, 0x0a, 0x08, 0x08, 0x0b, 0x0c, 0x0a, 0x08, 0x09, 0x05,\n",
    "  0x04, 0x09, 0x0c, 0x09, 0x07, 0x0c, 0x09, 0x0d, 0x05, 0x05, 0x0e, 0x01, 0x0d, 0x07, 0x05, 0x05,\n",
    "  0x05, 0x04, 0x01, 0x05, 0x0c, 0x03, 0x04, 0x01, 0x06, 0x02, 0x0b, 0x04, 0x02, 0x0a, 0x01, 0x05,\n",
    "  0x04, 0x01, 0x04, 0x01, 0x04, 0x09, 0x07, 0x06, 0x09, 0x0e, 0x0a, 0x01, 0x0e, 0x0b, 0x05, 0x05,\n",
    "  0x05, 0x04, 0x01, 0x07, 0x05, 0x06, 0x08, 0x0b, 0x06, 0x09, 0x0d, 0x04, 0x0a, 0x0a, 0x01, 0x05,\n",
    "  0x04, 0x03, 0x05, 0x0e, 0x03, 0x0c, 0x02, 0x08, 0x09, 0x04, 0x03, 0x04, 0x08, 0x0a, 0x01, 0x05,\n",
    "  0x06, 0x08, 0x02, 0x0b, 0x0c, 0x02, 0x09, 0x06, 0x03, 0x06, 0x09, 0x05, 0x07, 0x0d, 0x05, 0x05,\n",
    "  0x0e, 0x00, 0x0b, 0x0d, 0x05, 0x0d, 0x07, 0x0c, 0x0a, 0x08, 0x02, 0x02, 0x08, 0x02, 0x01, 0x05,\n",
    "  0x0e, 0x03, 0x0c, 0x01, 0x05, 0x06, 0x09, 0x05, 0x0c, 0x00, 0x09, 0x0d, 0x06, 0x09, 0x05, 0x05,\n",
    "  0x0c, 0x08, 0x01, 0x05, 0x04, 0x0b, 0x05, 0x04, 0x03, 0x05, 0x06, 0x01, 0x0d, 0x06, 0x01, 0x05,\n",
    "  0x07, 0x05, 0x06, 0x00, 0x00, 0x0b, 0x05, 0x06, 0x0a, 0x03, 0x0d, 0x06, 0x00, 0x0b, 0x05, 0x05,\n",
    "  0x0e, 0x00, 0x0b, 0x05, 0x07, 0x0c, 0x03, 0x0c, 0x0a, 0x08, 0x02, 0x08, 0x02, 0x08, 0x01, 0x05,\n",
    "  0x0e, 0x01, 0x0e, 0x03, 0x0c, 0x02, 0x08, 0x02, 0x08, 0x02, 0x09, 0x06, 0x09, 0x05, 0x07, 0x05,\n",
    "0x0e, 0x02, 0x0a, 0x0a, 0x02, 0x0a, 0x02, 0x0a, 0x02, 0x0a, 0x02, 0x0a, 0x02, 0x02, 0x0a, 0x03\n",
    "]\n",
    "\n",
    "# raw_maze = ''\n",
    "# try:\n",
    "#     with open('50.maz') as f:\n",
    "#         for ind,char in enumerate(f):\n",
    "#             physical_maze[ind/16][ind%16] = char\n"
   ]
  },
  {
   "cell_type": "code",
   "execution_count": 73,
   "metadata": {},
   "outputs": [],
   "source": [
    "def printMaze(maze,robot,weights=None,history=None):\n",
    "    # maze out is a list of strings, each representing a row\n",
    "    maze_out = [list((' '*PRINT_SIZE).join('+'*17))]\n",
    "    maze_out += [list(' '*((PRINT_SIZE+1)*16+1))]\n",
    "    maze_out += [list(' '*((PRINT_SIZE+1)*16+1))]\n",
    "    for line in range(15):\n",
    "        maze_out += [list('+'+(' '*(PRINT_SIZE-1)) + (('+'+' '*(PRINT_SIZE-1)).join(list(' '*16))) + '+')]\n",
    "        maze_out += [list(' '*((PRINT_SIZE+1)*16+1))]\n",
    "        maze_out += [list(' '*((PRINT_SIZE+1)*16+1))]\n",
    "    maze_out += [list((' '*PRINT_SIZE).join('+'*17))]\n",
    "    # In the data, the mouse \n",
    "    for ind,i in enumerate(maze):\n",
    "        # row is ind/16, col is ind%16\n",
    "        # from 0,0, bottommost row, leftmost column\n",
    "        # to 1,0, second to bottom row, leftmost column\n",
    "        if i & NORTH:\n",
    "            for s in range(1,PRINT_SIZE+1):\n",
    "                maze_out[48-((ind%16)+1)*3][int(ind/16)*(PRINT_SIZE+1)+s] = '-'\n",
    "        if i & EAST:\n",
    "            maze_out[48-((ind%16)+1)*3 + 1][int(ind/16)*(PRINT_SIZE+1)+(PRINT_SIZE+1)] = '|'\n",
    "            maze_out[48-((ind%16)+1)*3 + 2][int(ind/16)*(PRINT_SIZE+1)+(PRINT_SIZE+1)] = '|'\n",
    "        if i & SOUTH:\n",
    "            for s in range(1,PRINT_SIZE+1):\n",
    "                maze_out[48-((ind%16))*3][int(ind/16)*(PRINT_SIZE+1)+s] = '-'\n",
    "        if i & WEST:\n",
    "            maze_out[48-((ind%16)+1)*3 + 1][int(ind/16)*(PRINT_SIZE+1)] = '|'\n",
    "            maze_out[48-((ind%16)+1)*3 + 2][int(ind/16)*(PRINT_SIZE+1)] = '|'\n",
    "    \n",
    "    #mouse location\n",
    "    if robot.dir & NORTH:\n",
    "        maze_out[48-(robot.row*3+2)][robot.col*(PRINT_SIZE+1)+2] = '^'\n",
    "    if robot.dir & EAST:\n",
    "        maze_out[48-(robot.row*3+2)][robot.col*(PRINT_SIZE+1)+3] = '>'\n",
    "    if robot.dir & SOUTH:\n",
    "        maze_out[48-(robot.row*3+2)][robot.col*(PRINT_SIZE+1)+2] = 'v'\n",
    "    if robot.dir & WEST:\n",
    "        maze_out[48-(robot.row*3+2)][robot.col*(PRINT_SIZE+1)+1] = '<'\n",
    "    \n",
    "    \n",
    "    #Prints where the weights are\n",
    "    if weights:\n",
    "        for n,i in enumerate(weights):\n",
    "            for m,j in enumerate(i):\n",
    "                if j:\n",
    "                    # Ad-hoc but efficient way of guaranteeing 3 characters to print....\n",
    "                    if j.north:\n",
    "                        v = 'N'+str(j.north+.0000001)[:int(PRINT_SIZE/2-1)]\n",
    "                        for ind in range(len(v)):\n",
    "                            maze_out[48-(n*3+2)][m*(PRINT_SIZE+1)+ind+1+int(PRINT_SIZE/2)] = v[ind]\n",
    "                    if j.south:\n",
    "                        v = 'S'+str(j.south+.0000001)[:int(PRINT_SIZE/2-1)]\n",
    "                        for ind in range(len(v)):\n",
    "                            maze_out[48-(n*3+1)][m*(PRINT_SIZE+1)+ind+1] = v[ind]\n",
    "                    if j.west:\n",
    "                        v = 'W'+str(j.west+.0000001)[:int(PRINT_SIZE/2-1)]\n",
    "                        for ind in range(len(v)):\n",
    "                            maze_out[48-(n*3+2)][m*(PRINT_SIZE+1)+ind+1] = v[ind]\n",
    "                    if j.east:\n",
    "                        v = 'E'+str(j.east+.0000001)[:int(PRINT_SIZE/2-1)]\n",
    "                        for ind in range(len(v)):\n",
    "                            maze_out[48-(n*3+1)][m*(PRINT_SIZE+1)+ind+1+int(PRINT_SIZE/2)] = v[ind]\n",
    "            \n",
    "\n",
    "    #print('\\n'.join([''.join(i) for i in maze_out]))\n",
    "    with open('mazeiters','a+') as f:\n",
    "        f.write('\\n'.join([''.join(i) for i in maze_out])+'\\n'+'#'*100+'\\n')\n"
   ]
  },
  {
   "cell_type": "code",
   "execution_count": 64,
   "metadata": {
    "collapsed": true
   },
   "outputs": [],
   "source": [
    "def search(row,col):\n",
    "    return physical_maze[col*16+row]"
   ]
  },
  {
   "cell_type": "code",
   "execution_count": 14,
   "metadata": {
    "collapsed": true
   },
   "outputs": [],
   "source": [
    "# Cell weight tracker\n",
    "class Cell:\n",
    "    def __init__(self,north=None, south=None, east=None, west=None):\n",
    "        self.north = north\n",
    "        self.south = south\n",
    "        self.east = east\n",
    "        self.west = west\n",
    "    \n",
    "    def __repr__(self):\n",
    "        return 'Cell:' + 'N: ' + str(self.north) + ' E: ' + str(self.east) + ' S: ' + str(self.south) + 'W: ' + str(self.west) + '   '"
   ]
  },
  {
   "cell_type": "code",
   "execution_count": 15,
   "metadata": {
    "collapsed": true
   },
   "outputs": [],
   "source": [
    "neighbor_pattern = [(0,1),(0,-1),(1,0),(-1,0)]"
   ]
  },
  {
   "cell_type": "code",
   "execution_count": 16,
   "metadata": {
    "collapsed": true
   },
   "outputs": [],
   "source": [
    "class Mouse:\n",
    "    # This will be code to translate to arduino code\n",
    "    def __init__(self,row=0,col=0,edge=SOUTH):\n",
    "        self.row = row\n",
    "        self.col = col\n",
    "        #after searching has started, this will only be NORTH or EAST\n",
    "        self.edge = edge\n",
    "        self.dir = NORTH\n",
    "        #Each cell in the memory is initialized to 0, or no walls.\n",
    "        self.memory = [[0]*16 for i in range(16)]\n",
    "        #Each node in the weights represents an edge\n",
    "        self.weights = [[None]*16 for i in range(16)]\n",
    "        self.path = []\n",
    "        self.relative_path = []\n",
    "            \n",
    "    def neighbors(self,row,col):\n",
    "        x = [(row+1,col), (row-1,col),(row,col+1),(row,col-1)]\n",
    "        return [i for i in x if i[0]<16 and i[1]<16]\n",
    "                \n",
    "    # Important to note that there's no logic for telling how many \"units\" we've moved in this\n",
    "    # End goal: diagonal maze solving like http://ieeexplore.ieee.org/document/6852576/ \n",
    "    # So each edge has a distance, and we'll assume we start on the bottom edge...\n",
    "    def floodfill(self,r,c,dist,edge):\n",
    "        if self.memory[r][c] & CHECKED:\n",
    "            return\n",
    "        printMaze(physical_maze,Mouse(r,c,edge),self.weights)        \n",
    "        self.memory[r][c] = search(r,c) + CHECKED\n",
    "        if self.weights[r][c] is None:\n",
    "            self.weights[r][c] = Cell()\n",
    "        if edge == NORTH:\n",
    "            self.weights[r][c].north=dist\n",
    "        if edge == EAST:\n",
    "            self.weights[r][c].east=dist            \n",
    "        if edge == SOUTH:\n",
    "            self.weights[r][c].south=dist\n",
    "        if edge == WEST:\n",
    "            self.weights[r][c].west=dist      \n",
    "        for d in [NORTH,EAST,SOUTH,WEST]:\n",
    "            # if there is not a wall\n",
    "            if not self.memory[r][c] & d:\n",
    "                #print(self.memory[r][c],d)\n",
    "                # have to reverse the direction: we're going from one cell to the next and thus the relative \n",
    "                # edge changes as well\n",
    "                if (d in (NORTH,SOUTH) and edge in (EAST,WEST)) or (edge in (NORTH,SOUTH) and d in (EAST,WEST)):\n",
    "                    if d == NORTH and r < 16:\n",
    "                        self.floodfill(r+1,c,dist+.7,SOUTH)\n",
    "                    elif d == SOUTH and r > -1:\n",
    "                        self.floodfill(r-1,c,dist+.7,NORTH)\n",
    "                    elif d == EAST and c < 16:\n",
    "                        self.floodfill(r,c+1,dist+.7,WEST)\n",
    "                    elif d == WEST and c > -1:\n",
    "                        self.floodfill(r,c-1,dist+.7,EAST)\n",
    "                else: \n",
    "                    if d == NORTH and r < 16:\n",
    "                        self.floodfill(r+1,c,dist+1,SOUTH)\n",
    "                    elif d == SOUTH and r > -1:\n",
    "                        self.floodfill(r-1,c,dist+1,NORTH)\n",
    "                    elif d == EAST and c < 16:\n",
    "                        self.floodfill(r,c+1,dist+1,WEST)\n",
    "                    elif d == WEST and c > -1:\n",
    "                        self.floodfill(r,c-1,dist+1,EAST)"
   ]
  },
  {
   "cell_type": "code",
   "execution_count": 74,
   "metadata": {},
   "outputs": [],
   "source": [
    "open('mazeiters','w+').close()\n",
    "m = Mouse(edge=NORTH)\n",
    "m.floodfill(m.row,m.col,0,m.edge)\n",
    "\n"
   ]
  },
  {
   "cell_type": "code",
   "execution_count": null,
   "metadata": {
    "collapsed": true
   },
   "outputs": [],
   "source": []
  }
 ],
 "metadata": {
  "kernelspec": {
   "display_name": "Python 3",
   "language": "python",
   "name": "python3"
  },
  "language_info": {
   "codemirror_mode": {
    "name": "ipython",
    "version": 3
   },
   "file_extension": ".py",
   "mimetype": "text/x-python",
   "name": "python",
   "nbconvert_exporter": "python",
   "pygments_lexer": "ipython3",
   "version": "3.6.3"
  }
 },
 "nbformat": 4,
 "nbformat_minor": 2
}
